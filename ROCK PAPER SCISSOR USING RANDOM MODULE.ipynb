{
 "cells": [
  {
   "cell_type": "code",
   "execution_count": null,
   "id": "fd95d986",
   "metadata": {},
   "outputs": [
    {
     "name": "stdout",
     "output_type": "stream",
     "text": [
      "Let's play...\n",
      "           ROCK PAPER & SCISSOR\n"
     ]
    }
   ],
   "source": [
    "while True:\n",
    "    \n",
    "    import random\n",
    "\n",
    "\n",
    "\n",
    "    print(\"\"\"Let's play...\n",
    "           ROCK PAPER & SCISSOR\"\"\")\n",
    "\n",
    "    options = [\"ROCK\", \"PAPER\", \"SCISSOR\"]\n",
    "\n",
    "\n",
    "    player_choice =input(\"CHOOSE ROCK PAPER OR SCISSOR -: \").upper()\n",
    "\n",
    "\n",
    "    computer_choice = random.choice(options)\n",
    "\n",
    "\n",
    "    if player_choice == computer_choice:\n",
    "        print(\"It's a tie!\")\n",
    "    elif player_choice == \"ROCK\" and computer_choice == \"SCISSOR\":\n",
    "        print(\"You HAVE WON THE GAME! ROCK BEATS SCISSOR.\")\n",
    "    elif player_choice == \"PAPER\" and computer_choice == \"ROCK\":\n",
    "        print(\"You HAVE WON THE GAME! PAPER BEATS ROCK.\")\n",
    "    elif player_choice == \"SCISSOR\" and computer_choice == \"PAPER\":\n",
    "        print(\"YOU HAVE WON THE GAME! SCISSOR BEATS PAPER.\")\n",
    "    else:\n",
    "        print(\"SORRY..YOU LOSE...PLAY AGAIN..\")\n",
    "\n",
    "    print(\"computers choice=\",computer_choice)\n",
    "    Play_again=input(\"PLAY AGAIN ?? (YES/NO)\")\n",
    "    if Play_again==\"no\" or Play_again==\"NO\" or Play_again==\"No\":\n",
    "        break\n"
   ]
  }
 ],
 "metadata": {
  "kernelspec": {
   "display_name": "Python 3 (ipykernel)",
   "language": "python",
   "name": "python3"
  },
  "language_info": {
   "codemirror_mode": {
    "name": "ipython",
    "version": 3
   },
   "file_extension": ".py",
   "mimetype": "text/x-python",
   "name": "python",
   "nbconvert_exporter": "python",
   "pygments_lexer": "ipython3",
   "version": "3.11.2"
  }
 },
 "nbformat": 4,
 "nbformat_minor": 5
}
