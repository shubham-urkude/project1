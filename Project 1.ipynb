{
 "cells": [
  {
   "cell_type": "code",
   "execution_count": null,
   "id": "d1e5ad1d",
   "metadata": {},
   "outputs": [],
   "source": [
    "total_seats = 150\n",
    "normal_remaining_seats = 130\n",
    "recliner_remaining_seats = 20\n",
    "normal_seat_price = 250\n",
    "recliner_price = 380\n",
    "\n",
    "\n",
    "while True:\n",
    "    Amount_normal=0\n",
    "    Amount_recliner=0\n",
    "    print(\"WELCOME TO ETERNITY THEATRE\")\n",
    "    \n",
    "    name=input(\"Enter your name- \")\n",
    "    phone_no=int(input(\"Enter your phone no here-  \"))\n",
    "    abc=input(\"What type of seats do you want?? (normal/recliner)\")\n",
    "\n",
    "    while True:\n",
    "        if abc==\"normal\":\n",
    "            ABC=int(input(\"How many seats do you want??\"))\n",
    "            \n",
    "            \n",
    "            if ABC<=normal_remaining_seats:\n",
    "                Amount_normal += ABC*normal_seat_price\n",
    "                normal_remaining_seats  -= ABC \n",
    "                print(Amount_normal)\n",
    "                print(\"Book fast..Remaining sets left\", normal_remaining_seats)\n",
    "            else:\n",
    "                print(\"Seats not available\")\n",
    "        if abc==\"recliner\":\n",
    "            ABC=int(input(\"how many seats do you want??\"))\n",
    "            \n",
    "            if ABC<=recliner_remaining_seats:\n",
    "                Amount_recliner += ABC*recliner_price\n",
    "                recliner_remaining_seats -= ABC\n",
    "                print(Amount_recliner)\n",
    "                print(\"Book fast..Remaining seats left\",recliner_remaining_seats)\n",
    "\n",
    "        repeat=input(\"Do you want to add more seats?? (yes/no)\")\n",
    "        if repeat==\"no\" or repeat==\"NO\" or repeat==\"No\":\n",
    "            break\n",
    "    print(\"-\"*50)\n",
    "    print(\"Customers Name-\",name)\n",
    "    print(\"Phone no-\",phone_no)\n",
    "    if abc==\"normal\":\n",
    "         print(\"Total Amount-\",Amount_normal) \n",
    "    else:\n",
    "        print(\"Total amount\",Amount_recliner)\n",
    "    \n",
    "    print(\"THANKS FOR VISITING ETERNITY THEATRE\")\n",
    "    print(\"-\"*50)\n",
    "    repeat_customer=input(\"New customer?? (yes/no)\")\n",
    "    if repeat_customer==\"no\" or repeat_customer==\"NO\" or repeat_customer==\"No\":\n",
    "        break\n",
    "    "
   ]
  }
 ],
 "metadata": {
  "kernelspec": {
   "display_name": "Python 3 (ipykernel)",
   "language": "python",
   "name": "python3"
  },
  "language_info": {
   "codemirror_mode": {
    "name": "ipython",
    "version": 3
   },
   "file_extension": ".py",
   "mimetype": "text/x-python",
   "name": "python",
   "nbconvert_exporter": "python",
   "pygments_lexer": "ipython3",
   "version": "3.11.2"
  }
 },
 "nbformat": 4,
 "nbformat_minor": 5
}
